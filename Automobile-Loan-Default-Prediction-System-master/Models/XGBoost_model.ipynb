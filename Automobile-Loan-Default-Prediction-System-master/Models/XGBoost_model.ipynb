{
  "nbformat": 4,
  "nbformat_minor": 0,
  "metadata": {
    "colab": {
      "provenance": []
    },
    "kernelspec": {
      "name": "python3",
      "display_name": "Python 3"
    },
    "language_info": {
      "name": "python"
    }
  },
  "cells": [
    {
      "cell_type": "markdown",
      "source": [
        "### XGBoost"
      ],
      "metadata": {
        "id": "L7TcEgzwQaUj"
      }
    },
    {
      "cell_type": "code",
      "source": [
        "from xgboost import XGBClassifier\n",
        "import pandas as pd\n",
        "from sklearn.model_selection import train_test_split\n",
        "from sklearn.metrics import accuracy_score, confusion_matrix, classification_report\n",
        "from imblearn.under_sampling import RandomUnderSampler\n",
        "from sklearn.model_selection import RandomizedSearchCV\n",
        "import numpy as np\n",
        "import matplotlib.pyplot as plt\n",
        "from sklearn.model_selection import learning_curve\n",
        "import pickle\n",
        "import seaborn as sns"
      ],
      "metadata": {
        "id": "CVZZRgDIb5Vs"
      },
      "execution_count": null,
      "outputs": []
    },
    {
      "cell_type": "code",
      "source": [
        "# Load the dataset\n",
        "df_3 = pd.read_csv(\"TobeBalanced1.csv\")"
      ],
      "metadata": {
        "id": "oaRiUVwjb5Yj"
      },
      "execution_count": null,
      "outputs": []
    },
    {
      "cell_type": "code",
      "source": [
        "# Split data into features and target\n",
        "X = df_3.drop('Default', axis=1)\n",
        "y = df_3['Default']"
      ],
      "metadata": {
        "id": "opDXVonsb5bA"
      },
      "execution_count": null,
      "outputs": []
    },
    {
      "cell_type": "code",
      "source": [
        "# Apply RandomUnderSampler to handle class imbalance for the whole dataset\n",
        "under_sampler = RandomUnderSampler(random_state=42)\n",
        "X_under, y_under = under_sampler.fit_resample(X, y)"
      ],
      "metadata": {
        "id": "Tbko2IWGb5c4"
      },
      "execution_count": null,
      "outputs": []
    },
    {
      "cell_type": "code",
      "source": [
        "# Check the class distribution after undersampling\n",
        "print(\"Class distribution after undersampling:\")\n",
        "print(pd.Series(y_under).value_counts())"
      ],
      "metadata": {
        "id": "zXvhwbSWb5fD"
      },
      "execution_count": null,
      "outputs": []
    },
    {
      "cell_type": "code",
      "source": [
        "# Train-test split after undersampling\n",
        "X_train, X_test, y_train, y_test = train_test_split(X_under, y_under, test_size=0.2, random_state=42, stratify=y_under)"
      ],
      "metadata": {
        "id": "huLPP9HLb5g5"
      },
      "execution_count": null,
      "outputs": []
    },
    {
      "cell_type": "code",
      "source": [
        "# Initialize and train XGBoostClassifier\n",
        "xgb_clf = XGBClassifier(random_state=42, use_label_encoder=False, eval_metric='mlogloss')\n",
        "xgb_clf.fit(X_train, y_train)"
      ],
      "metadata": {
        "id": "mKxFQn52b5im"
      },
      "execution_count": null,
      "outputs": []
    },
    {
      "cell_type": "code",
      "source": [
        "# Predictions for both train and test sets\n",
        "y_train_pred = xgb_clf.predict(X_train)\n",
        "y_test_pred = xgb_clf.predict(X_test)"
      ],
      "metadata": {
        "id": "5c2QN2cnb5k0"
      },
      "execution_count": null,
      "outputs": []
    },
    {
      "cell_type": "code",
      "source": [
        "# Train and test accuracy\n",
        "train_accuracy = accuracy_score(y_train, y_train_pred)\n",
        "test_accuracy = accuracy_score(y_test, y_test_pred)"
      ],
      "metadata": {
        "id": "1-8DjEx7b5mU"
      },
      "execution_count": null,
      "outputs": []
    },
    {
      "cell_type": "code",
      "source": [
        "# Confusion Matrix\n",
        "conf_matrix_train = confusion_matrix(y_train, y_train_pred)\n",
        "conf_matrix_test = confusion_matrix(y_test, y_test_pred)"
      ],
      "metadata": {
        "id": "8NGTUX2-b5oA"
      },
      "execution_count": null,
      "outputs": []
    },
    {
      "cell_type": "code",
      "source": [
        "# Classification Report\n",
        "classification_rep_train = classification_report(y_train, y_train_pred)\n",
        "classification_rep_test = classification_report(y_test, y_test_pred)"
      ],
      "metadata": {
        "id": "CGIw_iwZb5p7"
      },
      "execution_count": null,
      "outputs": []
    },
    {
      "cell_type": "code",
      "source": [
        "# Print results\n",
        "print(\"\\nTrain Accuracy:\", train_accuracy)\n",
        "print(\"Test Accuracy:\", test_accuracy)\n",
        "\n",
        "print(\"\\nTrain Confusion Matrix:\")\n",
        "print(conf_matrix_train)\n",
        "print(\"\\nTest Confusion Matrix:\")\n",
        "print(conf_matrix_test)\n",
        "\n",
        "print(\"\\nTrain Classification Report:\")\n",
        "print(classification_rep_train)\n",
        "print(\"\\nTest Classification Report:\")\n",
        "print(classification_rep_test)"
      ],
      "metadata": {
        "id": "bTYB0uqib5rh"
      },
      "execution_count": null,
      "outputs": []
    },
    {
      "cell_type": "code",
      "source": [
        "# Hyperparameter Tuning using RandomizedSearchCV for XGBoost\n",
        "param_distributions = {\n",
        "    'n_estimators': [50, 100, 200],\n",
        "    'max_depth': [3, 6, 10],\n",
        "    'learning_rate': [0.01, 0.1, 0.2],\n",
        "    'subsample': [0.6, 0.8, 1.0],\n",
        "    'colsample_bytree': [0.6, 0.8, 1.0]\n",
        "}\n"
      ],
      "metadata": {
        "id": "MzHLs0hYb5tz"
      },
      "execution_count": null,
      "outputs": []
    },
    {
      "cell_type": "code",
      "source": [
        "xgb_clf = XGBClassifier(random_state=42, use_label_encoder=False, eval_metric='mlogloss')"
      ],
      "metadata": {
        "id": "nYf03-62b5vR"
      },
      "execution_count": null,
      "outputs": []
    },
    {
      "cell_type": "code",
      "source": [
        "random_search = RandomizedSearchCV(estimator=xgb_clf, param_distributions=param_distributions, cv=5, n_jobs=-1, verbose=2)"
      ],
      "metadata": {
        "id": "Srd1qZxqb5xH"
      },
      "execution_count": null,
      "outputs": []
    },
    {
      "cell_type": "code",
      "source": [
        "# Train the model with the best parameters\n",
        "random_search.fit(X_train, y_train)\n",
        "best_xgb_clf = random_search.best_estimator_"
      ],
      "metadata": {
        "id": "QB4dMXmhb5yy"
      },
      "execution_count": null,
      "outputs": []
    },
    {
      "cell_type": "code",
      "source": [
        "# Print the best parameters\n",
        "print(\"Best parameters found: \", random_search.best_params_)"
      ],
      "metadata": {
        "id": "PfWqWaMkb50t"
      },
      "execution_count": null,
      "outputs": []
    },
    {
      "cell_type": "code",
      "source": [
        "# Train the best model on the undersampled dataset\n",
        "best_xgb_clf.fit(X_train, y_train)"
      ],
      "metadata": {
        "id": "3ig_Tt7bb52b"
      },
      "execution_count": null,
      "outputs": []
    },
    {
      "cell_type": "code",
      "source": [
        "# Predictions for both train and test sets\n",
        "y_train_pred = best_xgb_clf.predict(X_train)\n",
        "y_test_pred = best_xgb_clf.predict(X_test)\n",
        "\n",
        "# Train and test accuracy\n",
        "train_accuracy = accuracy_score(y_train, y_train_pred)\n",
        "test_accuracy = accuracy_score(y_test, y_test_pred)\n",
        "\n",
        "# Confusion Matrix\n",
        "conf_matrix_train = confusion_matrix(y_train, y_train_pred)\n",
        "conf_matrix_test = confusion_matrix(y_test, y_test_pred)\n"
      ],
      "metadata": {
        "id": "PRQ1vTZLb54Z"
      },
      "execution_count": null,
      "outputs": []
    },
    {
      "cell_type": "code",
      "source": [
        "# Print results\n",
        "print(\"\\nTrain Accuracy:\", train_accuracy)\n",
        "print(\"Test Accuracy:\", test_accuracy)\n",
        "\n",
        "print(\"\\nTrain Confusion Matrix:\")\n",
        "print(conf_matrix_train)\n",
        "print(\"\\nTest Confusion Matrix:\")\n",
        "print(conf_matrix_test)\n"
      ],
      "metadata": {
        "id": "5h01YodVb56c"
      },
      "execution_count": null,
      "outputs": []
    },
    {
      "cell_type": "code",
      "source": [
        "# Classification Report\n",
        "classification_rep_train = classification_report(y_train, y_train_pred)\n",
        "classification_rep_test = classification_report(y_test, y_test_pred)"
      ],
      "metadata": {
        "id": "QyS-9OZCb598"
      },
      "execution_count": null,
      "outputs": []
    },
    {
      "cell_type": "code",
      "source": [
        "print(\"\\nTrain Classification Report:\")\n",
        "print(classification_rep_train)\n",
        "print(\"\\nTest Classification Report:\")\n",
        "print(classification_rep_test)"
      ],
      "metadata": {
        "id": "Xkg2-pqHdXsK"
      },
      "execution_count": null,
      "outputs": []
    },
    {
      "cell_type": "code",
      "source": [
        "# Function to plot confusion matrix as heatmap\n",
        "def plot_confusion_matrix(cm, title='Confusion Matrix', cmap=plt.cm.Blues):\n",
        "    plt.figure(figsize=(8, 6))\n",
        "    sns.heatmap(cm, annot=True, fmt='d', cmap=cmap, cbar=False, square=True,\n",
        "                xticklabels=['Not Default', 'Default'], yticklabels=['Not Default', 'Default'])\n",
        "    plt.title(title)\n",
        "    plt.ylabel('True label')\n",
        "    plt.xlabel('Predicted label')\n",
        "    plt.tight_layout()\n",
        "    plt.show()"
      ],
      "metadata": {
        "id": "Crut_FzedXt_"
      },
      "execution_count": null,
      "outputs": []
    },
    {
      "cell_type": "code",
      "source": [
        "# Plot heatmaps for confusion matrices\n",
        "plot_confusion_matrix(conf_matrix_train, title='Training Confusion Matrix Heatmap')\n",
        "plot_confusion_matrix(conf_matrix_test, title='Test Confusion Matrix Heatmap')"
      ],
      "metadata": {
        "id": "MXXuUgyRdXv_"
      },
      "execution_count": null,
      "outputs": []
    },
    {
      "cell_type": "code",
      "source": [
        "# Plot Learning Curve to detect overfitting/underfitting\n",
        "def plot_learning_curve(estimator, X, y, title=\"Learning Curve\", cv=None, n_jobs=None, train_sizes=np.linspace(0.1, 1.0, 5)):\n",
        "    plt.figure(figsize=(10, 6))\n",
        "    plt.title(title)\n",
        "    plt.xlabel(\"Training examples\")\n",
        "    plt.ylabel(\"Score\")\n",
        "\n",
        "    # Compute the learning curve\n",
        "    train_sizes, train_scores, test_scores = learning_curve(estimator, X, y, cv=cv, n_jobs=n_jobs, train_sizes=train_sizes)\n",
        "\n",
        "    # Calculate mean and standard deviation for train and test scores\n",
        "    train_scores_mean = np.mean(train_scores, axis=1)\n",
        "    train_scores_std = np.std(train_scores, axis=1)\n",
        "    test_scores_mean = np.mean(test_scores, axis=1)\n",
        "    test_scores_std = np.std(test_scores, axis=1)\n",
        "\n",
        "    # Plot learning curve\n",
        "    plt.grid()\n",
        "    plt.fill_between(train_sizes, train_scores_mean - train_scores_std, train_scores_mean + train_scores_std, alpha=0.1, color=\"r\")\n",
        "    plt.fill_between(train_sizes, test_scores_mean - test_scores_std, test_scores_mean + test_scores_std, alpha=0.1, color=\"g\")\n",
        "    plt.plot(train_sizes, train_scores_mean, 'o-', color=\"r\", label=\"Training score\")\n",
        "    plt.plot(train_sizes, test_scores_mean, 'o-', color=\"g\", label=\"Cross-validation score\")\n",
        "\n",
        "    plt.legend(loc=\"best\")\n",
        "    plt.show()"
      ],
      "metadata": {
        "id": "2jyxL7HOdXze"
      },
      "execution_count": null,
      "outputs": []
    },
    {
      "cell_type": "code",
      "source": [
        "# Plot the learning curve for the best XGBClassifier\n",
        "plot_learning_curve(best_xgb_clf, X_train, y_train, title=\"XGBoost Learning Curve\", cv=5)"
      ],
      "metadata": {
        "id": "jmYeophzdl_L"
      },
      "execution_count": null,
      "outputs": []
    },
    {
      "cell_type": "code",
      "source": [
        "# Save the best model\n",
        "with open('xgboost_undersampled.pkl', 'wb') as file:\n",
        "    pickle.dump(best_xgb_clf, file)\n",
        "\n",
        "print(\"Model saved as 'xgboost_undersampled.pkl'\")"
      ],
      "metadata": {
        "id": "5VU3u3YLdmL7"
      },
      "execution_count": null,
      "outputs": []
    }
  ]
}
{
 "cells": [
  {
   "cell_type": "code",
   "execution_count": null,
   "id": "1d848c25-cb9c-4c0b-938d-3e8d01f06807",
   "metadata": {},
   "outputs": [],
   "source": [
    "from catboost import CatBoostClassifier"
   ]
  },
  {
   "cell_type": "code",
   "execution_count": null,
   "id": "afe88a4e-3710-46f9-ab00-e53c62d366bc",
   "metadata": {},
   "outputs": [],
   "source": [
    "catboost_model = CatBoostClassifier(\n",
    "    iterations=1000,       # Number of boosting iterations\n",
    "    learning_rate=0.1,     # Learning rate for boosting\n",
    "    depth=6,               # Depth of each tree\n",
    "    class_weights=None,    # No need for class weights after balancing the dataset\n",
    "    silent=True\n",
    "    )"
   ]
  },
  {
   "cell_type": "code",
   "execution_count": null,
   "id": "ab4b5293-9914-489a-ac72-ef7ae59fdbed",
   "metadata": {},
   "outputs": [],
   "source": [
    "catboost_model.fit(x_train,y_train)"
   ]
  },
  {
   "cell_type": "code",
   "execution_count": null,
   "id": "94ea847a-17b3-44f2-b7c3-ca25d9e759c7",
   "metadata": {},
   "outputs": [],
   "source": [
    "catboost_model.score(x_train,y_train)"
   ]
  },
  {
   "cell_type": "code",
   "execution_count": null,
   "id": "21519b18-2a90-4542-b3fe-99decf43122d",
   "metadata": {},
   "outputs": [],
   "source": [
    "cat_y_pred = catboost_model.predict(x_test)"
   ]
  },
  {
   "cell_type": "code",
   "execution_count": null,
   "id": "e84a40ec-cfa3-4797-bacf-3df3bda198d8",
   "metadata": {},
   "outputs": [],
   "source": [
    "cat_test_acc = accuracy_score(y_test,cat_y_pred)\n",
    "print(f'Ctboost test accuracy {cat_test_acc}')"
   ]
  },
  {
   "cell_type": "code",
   "execution_count": null,
   "id": "6802e7dc-a2bf-435c-b7dc-b860abb80a6b",
   "metadata": {},
   "outputs": [],
   "source": [
    "cat_cm = confusion_matrix(y_test,cat_y_pred)"
   ]
  },
  {
   "cell_type": "code",
   "execution_count": null,
   "id": "35fe317c-9665-45a0-b72b-e5b553f6c5fe",
   "metadata": {},
   "outputs": [],
   "source": [
    "plt.figure(figsize=(4,4))\n",
    "sns.heatmap(cat_cm, annot=True,square=True,cmap='coolwarm', xticklabels = ['class-0','class-1'],yticklabels = ['class-0','class-1'])\n",
    "plt.xlabel('Predicted Label')\n",
    "plt.ylabel('True Label')\n",
    "plt.show()"
   ]
  },
  {
   "cell_type": "code",
   "execution_count": null,
   "id": "42208cc6-8f7e-4286-a6aa-2446c4261cb4",
   "metadata": {},
   "outputs": [],
   "source": [
    "print(classification_report(y_test,cat_y_pred))"
   ]
  },
  {
   "cell_type": "code",
   "execution_count": null,
   "id": "7792fa6b-1cbb-4ed8-a9c1-cc0ef402659b",
   "metadata": {},
   "outputs": [],
   "source": []
  }
 ],
 "metadata": {
  "kernelspec": {
   "display_name": "Python 3 (ipykernel)",
   "language": "python",
   "name": "python3"
  },
  "language_info": {
   "codemirror_mode": {
    "name": "ipython",
    "version": 3
   },
   "file_extension": ".py",
   "mimetype": "text/x-python",
   "name": "python",
   "nbconvert_exporter": "python",
   "pygments_lexer": "ipython3",
   "version": "3.10.13"
  }
 },
 "nbformat": 4,
 "nbformat_minor": 5
}

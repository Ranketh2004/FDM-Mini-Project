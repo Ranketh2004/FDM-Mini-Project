{
 "cells": [
  {
   "cell_type": "code",
   "execution_count": 1,
   "id": "db917e2f-ba20-4da2-8318-e6ba3427b8a2",
   "metadata": {},
   "outputs": [],
   "source": [
    "from sklearn.naive_bayes import GaussianNB\n",
    "from sklearn.model_selection import RandomizedSearchCV"
   ]
  },
  {
   "cell_type": "code",
   "execution_count": 2,
   "id": "379a0ccc-5a8e-4264-87e6-0fc7348e5129",
   "metadata": {},
   "outputs": [],
   "source": [
    "gaussian_model = GaussianNB()"
   ]
  },
  {
   "cell_type": "code",
   "execution_count": null,
   "id": "a22d651b-29e8-495d-ade5-c58d3a9f21e8",
   "metadata": {},
   "outputs": [],
   "source": [
    "gaussian_model.fit(x_train,y_train)"
   ]
  },
  {
   "cell_type": "code",
   "execution_count": null,
   "id": "095a0568-79d6-46a7-82bb-6b5a73fa710a",
   "metadata": {},
   "outputs": [],
   "source": [
    "gaussian_model.score(x_train,y_train)"
   ]
  },
  {
   "cell_type": "code",
   "execution_count": null,
   "id": "cc6ac15f-c80c-47e6-a14f-5b809e8b9ee6",
   "metadata": {},
   "outputs": [],
   "source": [
    "gaussian_model.score(x_test,y_test)"
   ]
  },
  {
   "cell_type": "code",
   "execution_count": null,
   "id": "9e4e47a9-520e-4b65-ad4a-2938e377be3c",
   "metadata": {},
   "outputs": [],
   "source": [
    "import numpy as np\n",
    "#fine tuning gaussian\n",
    "params = {\n",
    "  'var_smoothing': np.logspace(0, -9, num=100)\n",
    "}\n"
   ]
  },
  {
   "cell_type": "code",
   "execution_count": null,
   "id": "a367cc79-3315-4974-ab85-46a182d6367a",
   "metadata": {},
   "outputs": [],
   "source": [
    "random_search_nb = RandomizedSearchCV(gaussian_model,params, cv=5, scoring='accuracy', verbose=1, n_jobs=-1)"
   ]
  },
  {
   "cell_type": "code",
   "execution_count": null,
   "id": "a3739bf5-05f1-444e-9720-33c9c3d915e0",
   "metadata": {},
   "outputs": [],
   "source": [
    "random_search_nb.fit(x_under,y_under)"
   ]
  },
  {
   "cell_type": "code",
   "execution_count": null,
   "id": "03f9b385-8f31-444c-bea9-3b9a4ab94c32",
   "metadata": {},
   "outputs": [],
   "source": [
    "gaussian_best_model = random_search_nb.best_estimator_"
   ]
  },
  {
   "cell_type": "code",
   "execution_count": null,
   "id": "c33d6e46-8a2a-4293-9ce2-d1700c10c16a",
   "metadata": {},
   "outputs": [],
   "source": [
    "print(f'Gaussian NB best params {random_search_nb.best_params_}')\n",
    "print(f'Gaussian NB best score {random_search_nb.best_score_}')"
   ]
  },
  {
   "cell_type": "code",
   "execution_count": null,
   "id": "a59b3e9a-09bf-427e-b3d7-9f2935a7775b",
   "metadata": {},
   "outputs": [],
   "source": [
    "y_pred_best = gaussian_best_model.predict(x_test)"
   ]
  },
  {
   "cell_type": "code",
   "execution_count": null,
   "id": "e80dc035-bfe3-4fbc-a8ba-91fa3cb45678",
   "metadata": {},
   "outputs": [],
   "source": [
    "cm_gaussian = confusion_matrix(y_test,y_pred_best)\n",
    "plt.figure(figsize=(4,4))\n",
    "sns.heatmap(cm_gaussian, annot=True,square=True,cmap='coolwarm', xticklabels = ['class-0','class-1'],yticklabels = ['class-0','class-1'])\n",
    "plt.xlabel('Predicted Label')\n",
    "plt.ylabel('True Label')\n",
    "plt.show()"
   ]
  },
  {
   "cell_type": "code",
   "execution_count": null,
   "id": "6bf23e3d-5758-4a11-9af6-ffe9f4096ce6",
   "metadata": {},
   "outputs": [],
   "source": [
    "print(classification_report(y_test,y_pred_best))"
   ]
  }
 ],
 "metadata": {
  "kernelspec": {
   "display_name": "Python 3 (ipykernel)",
   "language": "python",
   "name": "python3"
  },
  "language_info": {
   "codemirror_mode": {
    "name": "ipython",
    "version": 3
   },
   "file_extension": ".py",
   "mimetype": "text/x-python",
   "name": "python",
   "nbconvert_exporter": "python",
   "pygments_lexer": "ipython3",
   "version": "3.10.13"
  }
 },
 "nbformat": 4,
 "nbformat_minor": 5
}

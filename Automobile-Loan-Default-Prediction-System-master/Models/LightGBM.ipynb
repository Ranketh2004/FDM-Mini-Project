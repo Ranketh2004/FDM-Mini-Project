{
 "cells": [
  {
   "cell_type": "code",
   "execution_count": null,
   "id": "bcc3f5b1-bd20-4ae7-b0ce-903f3f31c935",
   "metadata": {},
   "outputs": [],
   "source": [
    "import lightgbm as lgb"
   ]
  },
  {
   "cell_type": "code",
   "execution_count": null,
   "id": "9cf08598-d7ce-439c-8b35-8598cc5b100a",
   "metadata": {},
   "outputs": [],
   "source": [
    "lgb_model = lgb.LGBMClassifier()"
   ]
  },
  {
   "cell_type": "code",
   "execution_count": null,
   "id": "24cb5609-7126-4709-b6a1-49f831e736e2",
   "metadata": {},
   "outputs": [],
   "source": [
    "params_lgb = {\n",
    "    'num_leaves': [31, 50, 70, 100],               # Number of leaves\n",
    "    'learning_rate': [0.01, 0.05, 0.1, 0.2],       # Learning rate\n",
    "    'n_estimators': [100, 500, 1000],              # Number of boosting iterations (trees)\n",
    "    'max_depth': [-1, 10, 20, 30],                 # Maximum depth of each tree\n",
    "    'min_data_in_leaf': [20, 50, 100, 300],        # Minimum data points in a leaf\n",
    "    'feature_fraction': [0.6, 0.7, 0.8, 1.0],      # Fraction of features to be used\n",
    "    'bagging_fraction': [0.6, 0.7, 0.8, 1.0],      # Fraction of data to be used for each boosting round\n",
    "    'bagging_freq': [0, 1, 5],                     # Bagging frequency\n",
    "    'lambda_l1': [0, 0.01, 0.1, 1],                # L1 regularization\n",
    "    'lambda_l2': [0, 0.01, 0.1, 1]                 # L2 regularization\n",
    "}"
   ]
  },
  {
   "cell_type": "code",
   "execution_count": null,
   "id": "870fb33f-e994-46a5-81e9-f57fd6fa8f1e",
   "metadata": {},
   "outputs": [],
   "source": [
    "random_search_lgb = RandomizedSearchCV(\n",
    "    lgb_model,\n",
    "    param_distributions=params_lgb,\n",
    "    n_iter=10,               # Number of different combinations to try\n",
    "    scoring='accuracy',      # Scoring metric 'accuracy'\n",
    "    cv=5,                    # 5-fold cross-validation\n",
    "    verbose=1,               # Verbosity level\n",
    "    random_state=42,         # Reproducibility\n",
    "    n_jobs=-1                # Use all available cores\n",
    ")"
   ]
  },
  {
   "cell_type": "code",
   "execution_count": null,
   "id": "92cfe191-50dc-4e5e-87ba-ef15e5a811fe",
   "metadata": {},
   "outputs": [],
   "source": [
    "random_search_lgb.fit(x_under,y_under)"
   ]
  },
  {
   "cell_type": "code",
   "execution_count": null,
   "id": "c51b7396-ce57-48ac-861a-2dea01be65a0",
   "metadata": {},
   "outputs": [],
   "source": [
    "print(f\"Best parameters for light lgb: {random_search_lgb.best_params_}\")\n"
   ]
  },
  {
   "cell_type": "code",
   "execution_count": null,
   "id": "68e85311-31cf-45b0-b6d8-566485549be9",
   "metadata": {},
   "outputs": [],
   "source": [
    "best_lgbm_model = random_search_lgb.best_estimator_"
   ]
  },
  {
   "cell_type": "code",
   "execution_count": null,
   "id": "fd5708be-9e5e-470d-a8c9-6cf06ac83cc9",
   "metadata": {},
   "outputs": [],
   "source": [
    "y_pred_lgb = best_lgbm_model.predict(x_test)"
   ]
  },
  {
   "cell_type": "code",
   "execution_count": null,
   "id": "b3496b2e-1059-4acb-82d4-0cd3cd867a49",
   "metadata": {},
   "outputs": [],
   "source": [
    "best_lgbm_model.score(x_train,y_train)"
   ]
  },
  {
   "cell_type": "code",
   "execution_count": null,
   "id": "98b6b053-eb55-42c7-a28e-3af8f7611ddc",
   "metadata": {},
   "outputs": [],
   "source": [
    "best_lgbm_model.score(x_test,y_test)"
   ]
  },
  {
   "cell_type": "code",
   "execution_count": null,
   "id": "b7487b3f-c345-4c2b-97c2-ed662f7799b4",
   "metadata": {},
   "outputs": [],
   "source": [
    "cm_lgb = confusion_matrix(y_test,y_pred_lgb)"
   ]
  },
  {
   "cell_type": "code",
   "execution_count": null,
   "id": "4ddaa0aa-795d-4e76-8ea6-ded4d9869ed9",
   "metadata": {},
   "outputs": [],
   "source": [
    "plt.figure(figsize=(4,4))\n",
    "sns.heatmap(cm_lgb, annot=True,square=True,cmap='coolwarm', xticklabels = ['class-0','class-1'],yticklabels = ['class-0','class-1'])\n",
    "plt.xlabel('Predicted Label')\n",
    "plt.ylabel('True Label')\n",
    "plt.show()"
   ]
  },
  {
   "cell_type": "code",
   "execution_count": null,
   "id": "147084d7-da98-4392-b756-528bd018c11e",
   "metadata": {},
   "outputs": [],
   "source": [
    "print(classification_report(y_test,y_pred_lgb))"
   ]
  }
 ],
 "metadata": {
  "kernelspec": {
   "display_name": "Python 3 (ipykernel)",
   "language": "python",
   "name": "python3"
  },
  "language_info": {
   "codemirror_mode": {
    "name": "ipython",
    "version": 3
   },
   "file_extension": ".py",
   "mimetype": "text/x-python",
   "name": "python",
   "nbconvert_exporter": "python",
   "pygments_lexer": "ipython3",
   "version": "3.10.13"
  }
 },
 "nbformat": 4,
 "nbformat_minor": 5
}
